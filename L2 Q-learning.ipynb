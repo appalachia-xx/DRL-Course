{
 "cells": [
  {
   "cell_type": "markdown",
   "metadata": {},
   "source": [
    "# Q-learning"
   ]
  },
  {
   "cell_type": "markdown",
   "metadata": {},
   "source": [
    "## Quick recap"
   ]
  },
  {
   "cell_type": "markdown",
   "metadata": {},
   "source": [
    "Our goalis to find an optiml policy $\\pi^*$, aka., a p0licy that leads to the best ecpected cumulative reward.\n",
    "\n",
    "Two main types of RL methods to find the optimal policy:\n",
    "\n",
    "(1) *Policy-based RL methods*: **train the policy directly** to learn which action to take given a state;\n",
    "\n",
    "(2) *Value-based RL methods*: **train a value function** to learn which state is more valuable and use this value function to take the action that leads to it. \n",
    "\n",
    "(will dive deeper into the value-based methods)"
   ]
  },
  {
   "cell_type": "markdown",
   "metadata": {},
   "source": []
  },
  {
   "cell_type": "markdown",
   "metadata": {},
   "source": []
  }
 ],
 "metadata": {
  "language_info": {
   "name": "python"
  }
 },
 "nbformat": 4,
 "nbformat_minor": 2
}
