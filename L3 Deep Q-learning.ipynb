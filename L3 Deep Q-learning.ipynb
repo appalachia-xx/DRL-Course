{
 "cells": [
  {
   "cell_type": "markdown",
   "metadata": {},
   "source": [
    "# Deep Q-learning"
   ]
  },
  {
   "cell_type": "markdown",
   "metadata": {},
   "source": [
    "Producing and updating a Q-table become inefficient in large state space environments.\n",
    "\n",
    "Instead of using a Q-table, Deep Q-Learning uses a **Neural Network** that takes a state and approximates Q-values for each action based on that state."
   ]
  }
 ],
 "metadata": {
  "language_info": {
   "name": "python"
  }
 },
 "nbformat": 4,
 "nbformat_minor": 2
}
