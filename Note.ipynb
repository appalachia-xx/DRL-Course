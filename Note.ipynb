{
 "cells": [
  {
   "cell_type": "markdown",
   "metadata": {},
   "source": [
    "# RL methods"
   ]
  },
  {
   "cell_type": "markdown",
   "metadata": {},
   "source": [
    "* Discrete state (observation space)\n",
    "\n",
    "1. MMDP (VI, PI, dynamic programming)\n",
    "2. Q-learning\n",
    "   \n",
    "* Continuous state\n",
    "  \n",
    "1. Deep Q-network (DQN)\n",
    "   \n",
    "   (1) Deep Q-learning with Atari\n",
    "\n",
    "2. Policy gradient\n",
    "   \n",
    "   (1) Deep Deterministic Policy Gradient (DDPG)\n",
    "\n",
    "3. Advantage Actor-Critic (A2C)\n",
    "4. Proximal policy optimization (PPO)\n",
    "5. \n",
    "\n",
    "\n",
    "\n"
   ]
  }
 ],
 "metadata": {
  "language_info": {
   "name": "python"
  }
 },
 "nbformat": 4,
 "nbformat_minor": 2
}
